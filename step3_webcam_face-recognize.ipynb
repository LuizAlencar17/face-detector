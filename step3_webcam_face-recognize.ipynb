{
 "cells": [
  {
   "cell_type": "code",
   "execution_count": 26,
   "id": "82a821ca",
   "metadata": {
    "colab": {
     "base_uri": "https://localhost:8080/"
    },
    "executionInfo": {
     "elapsed": 2096,
     "status": "ok",
     "timestamp": 1619656983233,
     "user": {
      "displayName": "Luiz Fabio Bailosa de Alencar",
      "photoUrl": "https://lh3.googleusercontent.com/a-/AOh14Gh8gEbDq8r0LfOLPj1RaeobJXulKK3RZ3g0Eu-qkg=s64",
      "userId": "09736048566336561574"
     },
     "user_tz": 180
    },
    "id": "confidential-register",
    "outputId": "3aa8343e-c509-493a-a194-77cb66e0681d"
   },
   "outputs": [],
   "source": [
    "from tensorflow.keras.applications.mobilenet_v2 import preprocess_input\n",
    "from tensorflow.keras.preprocessing.image import img_to_array\n",
    "from tensorflow.keras.models import load_model\n",
    "import numpy as np\n",
    "import time\n",
    "import random\n",
    "import cv2\n",
    "import os"
   ]
  },
  {
   "cell_type": "markdown",
   "id": "89fd1149",
   "metadata": {
    "id": "uf08w_cZR6_R"
   },
   "source": [
    "## 1. Loading and configuration of model"
   ]
  },
  {
   "cell_type": "code",
   "execution_count": 27,
   "id": "ad597e9a",
   "metadata": {
    "executionInfo": {
     "elapsed": 784,
     "status": "ok",
     "timestamp": 1619657514749,
     "user": {
      "displayName": "Luiz Fabio Bailosa de Alencar",
      "photoUrl": "https://lh3.googleusercontent.com/a-/AOh14Gh8gEbDq8r0LfOLPj1RaeobJXulKK3RZ3g0Eu-qkg=s64",
      "userId": "09736048566336561574"
     },
     "user_tz": 180
    },
    "id": "VBYxZKTSRWQ8"
   },
   "outputs": [],
   "source": [
    "dataset_dir = \"./dataset/faces\"\n",
    "model_dir   = \"./models\"\n",
    "model_name  = \"/MobileNetV2.h5\"\n",
    "\n",
    "img_size = (160, 160)\n",
    "color    = (255, 0, 0)"
   ]
  },
  {
   "cell_type": "code",
   "execution_count": 28,
   "id": "c0d7bd5e",
   "metadata": {
    "executionInfo": {
     "elapsed": 1659695,
     "status": "ok",
     "timestamp": 1619659209401,
     "user": {
      "displayName": "Luiz Fabio Bailosa de Alencar",
      "photoUrl": "https://lh3.googleusercontent.com/a-/AOh14Gh8gEbDq8r0LfOLPj1RaeobJXulKK3RZ3g0Eu-qkg=s64",
      "userId": "09736048566336561574"
     },
     "user_tz": 180
    },
    "id": "arbitrary-assignment"
   },
   "outputs": [],
   "source": [
    "# Load the best saved model\n",
    "from tensorflow.keras.models import load_model\n",
    "model = load_model(model_dir + model_name)"
   ]
  },
  {
   "cell_type": "code",
   "execution_count": 29,
   "id": "762a68e3",
   "metadata": {},
   "outputs": [],
   "source": [
    "# load our serialized face detector model from disk\n",
    "prototxtPath = r\"face_detector\\deploy.prototxt\"\n",
    "weightsPath  = r\"face_detector\\res10_300x300_ssd_iter_140000.caffemodel\"\n",
    "faceNet = cv2.dnn.readNet(prototxtPath, weightsPath)"
   ]
  },
  {
   "cell_type": "code",
   "execution_count": 30,
   "id": "64d42faa",
   "metadata": {},
   "outputs": [],
   "source": [
    "import json\n",
    "\n",
    "class_labels = json.load(open('class_labels.json',))\n",
    "\n",
    "def find_face_label(pred):\n",
    "    index = 0\n",
    "    valueMax = 0\n",
    "    for i in range(len(pred)):\n",
    "        if pred[i] > valueMax:\n",
    "            valueMax = pred[i]\n",
    "            index = i\n",
    "    return get_key(index)\n",
    "        \n",
    "# function to return key for any value\n",
    "def get_key(val):\n",
    "    for key, value in class_labels.items():\n",
    "         if val == value:\n",
    "            return key"
   ]
  },
  {
   "cell_type": "code",
   "execution_count": 31,
   "id": "6d02f6b3",
   "metadata": {},
   "outputs": [],
   "source": [
    "def predict_face(frame, faceNet, model):\n",
    "    # grab the dimensions of the frame and then construct a blob\n",
    "    # from it\n",
    "    (h, w) = frame.shape[:2]\n",
    "    blob = cv2.dnn.blobFromImage(\n",
    "        frame, \n",
    "        1.0, \n",
    "        img_size,\n",
    "        (104.0, 177.0, 123.0)\n",
    "    )\n",
    "\n",
    "    # pass the blob through the network and obtain the face detections\n",
    "    faceNet.setInput(blob)\n",
    "    detections = faceNet.forward()\n",
    "\n",
    "    # initialize our list of faces, their corresponding locations,\n",
    "    # and the list of predictions from our face mask network\n",
    "    faces = []\n",
    "    locs = []\n",
    "    preds = []\n",
    "\n",
    "    # loop over the detections\n",
    "    for i in range(0, detections.shape[2]):\n",
    "        # extract the confidence (i.e., probability) associated with\n",
    "        # the detection\n",
    "        confidence = detections[0, 0, i, 2]\n",
    "\n",
    "        # filter out weak detections by ensuring the confidence is\n",
    "        # greater than the minimum confidence\n",
    "        if confidence > 0.5:\n",
    "            # compute the (x, y)-coordinates of the bounding box for\n",
    "            # the object\n",
    "            box = detections[0, 0, i, 3:7] * np.array([w, h, w, h])\n",
    "            (startX, startY, endX, endY) = box.astype(\"int\")\n",
    "\n",
    "            # ensure the bounding boxes fall within the dimensions of\n",
    "            # the frame\n",
    "            (startX, startY) = (max(0, startX), max(0, startY))\n",
    "            (endX, endY) = (min(w - 1, endX), min(h - 1, endY))\n",
    "\n",
    "            # extract the face ROI, convert it from BGR to RGB channel\n",
    "            # ordering, resize it to 160x160, and preprocess it\n",
    "            face = frame[startY:endY, startX:endX]\n",
    "            face = cv2.cvtColor(face, cv2.COLOR_BGR2RGB)\n",
    "            face = cv2.resize(face, img_size)\n",
    "            face = img_to_array(face)\n",
    "            face = preprocess_input(face)\n",
    "\n",
    "            # add the face and bounding boxes to their respective\n",
    "            # lists\n",
    "            faces.append(face)\n",
    "            locs.append((startX, startY, endX, endY))\n",
    "\n",
    "    # only make a predictions if at least one face was detected\n",
    "    if len(faces) > 0:\n",
    "        # for faster inference we'll make batch predictions on *all*\n",
    "        # faces at the same time rather than one-by-one predictions\n",
    "        # in the above `for` loop\n",
    "        faces = np.array(faces, dtype=\"float32\")\n",
    "        preds = model.predict(faces, batch_size=32)\n",
    "\n",
    "    # return a 2-tuple of the face locations and their corresponding\n",
    "    # locations\n",
    "    return (locs, preds)"
   ]
  },
  {
   "cell_type": "markdown",
   "id": "96b48b5f",
   "metadata": {
    "id": "vNYMUNYRHw1I"
   },
   "source": [
    "## 2. Predicting the classification of webcam"
   ]
  },
  {
   "cell_type": "code",
   "execution_count": null,
   "id": "4ae4117e",
   "metadata": {},
   "outputs": [],
   "source": [
    "# initialize the video stream\n",
    "cap = cv2.VideoCapture(0)\n",
    "\n",
    "# loop over the frames from the video stream\n",
    "while True:\n",
    "    # grab the frame from the threaded video stream and resize it\n",
    "    # to have a maximum width of 400 pixels\n",
    "    success, frame = cap.read()\n",
    "    \n",
    "    # detect faces in the frame and determine if they are wearing a\n",
    "    # face mask or not\n",
    "    (locs, preds) = predict_face(frame, faceNet, model)\n",
    "\n",
    "    # loop over the detected face locations and their corresponding\n",
    "    # locations\n",
    "    for (box, pred) in zip(locs, preds):\n",
    "        # unpack the bounding box and predictions\n",
    "        (startX, startY, endX, endY) = box\n",
    "        \n",
    "        label = find_face_label(pred)\n",
    "\n",
    "        # include the probability in the label\n",
    "        label = \"{}: {:.2f}%\".format(label, max(pred[0], pred[1]) * 100)\n",
    "\n",
    "        # display the label and bounding box rectangle on the output\n",
    "        # frame\n",
    "        cv2.putText(frame, label, (startX, startY - 10),\n",
    "            cv2.FONT_HERSHEY_SIMPLEX, 0.95, color, 2)\n",
    "        cv2.rectangle(frame, (startX, startY), (endX, endY), color, 2)\n",
    "\n",
    "    # show the output frame\n",
    "    cv2.imshow(\"Frame\", frame)\n",
    "    key = cv2.waitKey(1) & 0xFF\n",
    "\n",
    "    # if the `q` key was pressed, break from the loop\n",
    "    if key == ord(\"q\"):\n",
    "        break\n",
    "\n",
    "# do a bit of cleanup\n",
    "cv2.destroyAllWindows()\n",
    "vs.stop()"
   ]
  },
  {
   "cell_type": "code",
   "execution_count": null,
   "id": "34ea2263",
   "metadata": {},
   "outputs": [],
   "source": []
  },
  {
   "cell_type": "code",
   "execution_count": null,
   "id": "8e0da318-25c8-4ce3-b5f0-371604a1f998",
   "metadata": {},
   "outputs": [],
   "source": []
  },
  {
   "cell_type": "code",
   "execution_count": null,
   "id": "9917ff2c-e17d-4e5b-be10-b693c194a2cc",
   "metadata": {},
   "outputs": [],
   "source": []
  },
  {
   "cell_type": "code",
   "execution_count": null,
   "id": "de9c647e-f4a5-4fe2-972a-185c07979635",
   "metadata": {},
   "outputs": [],
   "source": []
  },
  {
   "cell_type": "code",
   "execution_count": null,
   "id": "f1cdf1e3-6f96-4529-a217-b750efc1d679",
   "metadata": {},
   "outputs": [],
   "source": []
  }
 ],
 "metadata": {
  "accelerator": "GPU",
  "colab": {
   "collapsed_sections": [],
   "name": "FaceMaskDetector_VGG19.ipynb",
   "provenance": []
  },
  "kernelspec": {
   "display_name": "Python 3",
   "language": "python",
   "name": "python3"
  },
  "language_info": {
   "codemirror_mode": {
    "name": "ipython",
    "version": 3
   },
   "file_extension": ".py",
   "mimetype": "text/x-python",
   "name": "python",
   "nbconvert_exporter": "python",
   "pygments_lexer": "ipython3",
   "version": "3.8.8"
  }
 },
 "nbformat": 4,
 "nbformat_minor": 5
}
