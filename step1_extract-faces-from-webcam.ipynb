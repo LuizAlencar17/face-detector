{
 "cells": [
  {
   "cell_type": "code",
   "execution_count": 3,
   "id": "fa98dd26",
   "metadata": {},
   "outputs": [],
   "source": [
    "from mtcnn import MTCNN\n",
    "from PIL import Image\n",
    "import os, shutil\n",
    "from os import listdir\n",
    "from os.path import isdir\n",
    "from numpy import asarray\n",
    "\n",
    "detector = MTCNN()"
   ]
  },
  {
   "cell_type": "code",
   "execution_count": 17,
   "id": "08ce862b",
   "metadata": {},
   "outputs": [],
   "source": [
    "folder = './dataset'\n",
    "for filename in os.listdir(folder):\n",
    "    file_path = os.path.join(folder, filename)\n",
    "    try:\n",
    "        if os.path.isfile(file_path) or os.path.islink(file_path):\n",
    "            os.unlink(file_path)\n",
    "        elif os.path.isdir(file_path):\n",
    "            shutil.rmtree(file_path)\n",
    "    except Exception as e:\n",
    "        print('Failed to delete %s. Reason: %s' % (file_path, e))"
   ]
  },
  {
   "cell_type": "code",
   "execution_count": 23,
   "id": "de71e9d2",
   "metadata": {},
   "outputs": [
    {
     "name": "stdout",
     "output_type": "stream",
     "text": [
      "Your name is: LuizFabio\n",
      "How many photos do you want to take?: 10\n"
     ]
    }
   ],
   "source": [
    "your_name   = input(\"Your name is: \")\n",
    "img_counter = int(input(\"How many photos do you want to take?: \"))"
   ]
  },
  {
   "cell_type": "code",
   "execution_count": 25,
   "id": "0997832a",
   "metadata": {},
   "outputs": [],
   "source": [
    "try:\n",
    "    face_path  = \"./dataset/faces/\"+your_name+\"/\"\n",
    "    photo_path = \"./dataset/photos/\"+your_name+\"/\"\n",
    "\n",
    "    os.makedirs(face_path)   \n",
    "    os.makedirs(photo_path)\n",
    "except:\n",
    "    print(\"Some of the directories already exist. You need to delete dataset directories\")"
   ]
  },
  {
   "cell_type": "code",
   "execution_count": 26,
   "id": "de60905d",
   "metadata": {},
   "outputs": [],
   "source": [
    "def extract_face(file, size=(160, 160)):\n",
    "    # load a image\n",
    "    img = Image.open(file)\n",
    "    img = img.convert('RGB')\n",
    "    array = asarray(img)\n",
    "\n",
    "    result = detector.detect_faces(array)\n",
    "\n",
    "    # load the position from face\n",
    "    x1, y1, width, height  = result[0]['box']\n",
    "    x2, y2 = x1 + width, y1 + height\n",
    "\n",
    "    # get face from point position\n",
    "    face = array[y1:y2, x1:x2]\n",
    "\n",
    "    img_face = Image.fromarray(face)\n",
    "    img_face = img_face.resize(size)\n",
    "\n",
    "    return img_face"
   ]
  },
  {
   "cell_type": "code",
   "execution_count": 27,
   "id": "035cb53e",
   "metadata": {},
   "outputs": [],
   "source": [
    "def flip_image_FLIP_LEFT_RIGHT(img):\n",
    "    img = img.transpose(Image.FLIP_LEFT_RIGHT)\n",
    "    return img\n",
    "    \n",
    "def flip_image_FLIP_TOP_BOTTOM(img):\n",
    "    img = img.transpose(Image.FLIP_TOP_BOTTOM)\n",
    "    return img"
   ]
  },
  {
   "cell_type": "code",
   "execution_count": 1,
   "id": "675eac07",
   "metadata": {},
   "outputs": [
    {
     "name": "stdout",
     "output_type": "stream",
     "text": [
      "failed to grab frame\n"
     ]
    },
    {
     "ename": "NameError",
     "evalue": "name 'cam' is not defined",
     "output_type": "error",
     "traceback": [
      "\u001b[1;31m---------------------------------------------------------------------------\u001b[0m",
      "\u001b[1;31mNameError\u001b[0m                                 Traceback (most recent call last)",
      "\u001b[1;32m<ipython-input-1-8c7f098e05d6>\u001b[0m in \u001b[0;36m<module>\u001b[1;34m\u001b[0m\n\u001b[0;32m     35\u001b[0m         \u001b[0mimg_counter\u001b[0m \u001b[1;33m+=\u001b[0m \u001b[1;36m1\u001b[0m\u001b[1;33m\u001b[0m\u001b[1;33m\u001b[0m\u001b[0m\n\u001b[0;32m     36\u001b[0m \u001b[1;33m\u001b[0m\u001b[0m\n\u001b[1;32m---> 37\u001b[1;33m \u001b[0mcam\u001b[0m\u001b[1;33m.\u001b[0m\u001b[0mrelease\u001b[0m\u001b[1;33m(\u001b[0m\u001b[1;33m)\u001b[0m\u001b[1;33m\u001b[0m\u001b[1;33m\u001b[0m\u001b[0m\n\u001b[0m\u001b[0;32m     38\u001b[0m \u001b[1;33m\u001b[0m\u001b[0m\n\u001b[0;32m     39\u001b[0m \u001b[0mcv2\u001b[0m\u001b[1;33m.\u001b[0m\u001b[0mdestroyAllWindows\u001b[0m\u001b[1;33m(\u001b[0m\u001b[1;33m)\u001b[0m\u001b[1;33m\u001b[0m\u001b[1;33m\u001b[0m\u001b[0m\n",
      "\u001b[1;31mNameError\u001b[0m: name 'cam' is not defined"
     ]
    }
   ],
   "source": [
    "import cv2\n",
    "\n",
    "camera = cv2.VideoCapture(0)\n",
    "\n",
    "while True:\n",
    "    ret, frame = camera.read()\n",
    "    if not ret:\n",
    "        print(\"failed to grab frame\")\n",
    "        break\n",
    "    cv2.imshow(\"test\", frame)\n",
    "\n",
    "    key = cv2.waitKey(1) & 0xFF\n",
    "    \n",
    "    # if the `q` key was pressed, break from the loop\n",
    "    if key == ord(\"q\"):\n",
    "        break\n",
    "        \n",
    "    elif k%256 == 32:\n",
    "        # SPACE pressed\n",
    "        img_name = \"opencv_frame_{}.png\".format(img_counter)\n",
    "        \n",
    "        cv2.imwrite(photo_path + img_name, frame)\n",
    "        \n",
    "        try:\n",
    "            face = extract_face(photo_path + img_name)\n",
    "        \n",
    "            flip1 = flip_image_FLIP_TOP_BOTTOM(face) \n",
    "            flip2 = flip_image_FLIP_LEFT_RIGHT(face)\n",
    "\n",
    "            face.save (face_path + img_name, \"JPEG\", quality=100, optimize=True, progressive=True)\n",
    "            flip1.save(face_path + \"flip-1\" + img_name, \"JPEG\", quality=100, optimize=True, progressive=True)\n",
    "            flip2.save(face_path + \"flip-2\" + img_name, \"JPEG\", quality=100, optimize=True, progressive=True)\n",
    "        except:\n",
    "            print(\"No faces were identified\")\n",
    "        \n",
    "        img_counter += 1\n",
    "\n",
    "cam.release()\n",
    "\n",
    "cv2.destroyAllWindows()"
   ]
  },
  {
   "cell_type": "code",
   "execution_count": null,
   "id": "7ab85af3",
   "metadata": {},
   "outputs": [],
   "source": []
  },
  {
   "cell_type": "code",
   "execution_count": null,
   "id": "c3b325a5",
   "metadata": {},
   "outputs": [],
   "source": []
  }
 ],
 "metadata": {
  "kernelspec": {
   "display_name": "Python 3",
   "language": "python",
   "name": "python3"
  },
  "language_info": {
   "codemirror_mode": {
    "name": "ipython",
    "version": 3
   },
   "file_extension": ".py",
   "mimetype": "text/x-python",
   "name": "python",
   "nbconvert_exporter": "python",
   "pygments_lexer": "ipython3",
   "version": "3.8.8"
  }
 },
 "nbformat": 4,
 "nbformat_minor": 5
}
